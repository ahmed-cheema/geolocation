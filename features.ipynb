{
 "cells": [
  {
   "cell_type": "code",
   "execution_count": 1,
   "metadata": {},
   "outputs": [],
   "source": [
    "# Import necessary libraries\n",
    "from sklearn.metrics.pairwise import haversine_distances\n",
    "from shapely.geometry import Point, Polygon, box\n",
    "from sklearn import preprocessing\n",
    "import matplotlib.image as mpimg\n",
    "import matplotlib.pyplot as plt\n",
    "from skimage import color\n",
    "import geopandas as gpd\n",
    "from PIL import Image\n",
    "import pandas as pd\n",
    "import numpy as np\n",
    "import cv2 as cv\n",
    "import scipy.io\n",
    "import requests\n",
    "import shapely\n",
    "import pickle\n",
    "import glob\n",
    "import time\n",
    "import math\n",
    "import sys\n",
    "import os\n",
    "\n",
    "def progressbar(it, prefix=\"\", size=60, out=sys.stdout): # Python3.3+\n",
    "    count = len(it)\n",
    "    def show(j):\n",
    "        x = int(size*j/count)\n",
    "        print(\"{}[{}{}] {}/{}\".format(prefix, \"#\"*x, \".\"*(size-x), j, count), \n",
    "                end='\\r', file=out, flush=True)\n",
    "    show(0)\n",
    "    for i, item in enumerate(it):\n",
    "        yield item\n",
    "        show(i+1)\n",
    "    print(\"\\n\", flush=True, file=out)\n",
    "\n",
    "pd.options.mode.chained_assignment = None"
   ]
  },
  {
   "cell_type": "code",
   "execution_count": 2,
   "metadata": {},
   "outputs": [],
   "source": [
    "db = pd.read_csv('dict/overall.csv')"
   ]
  },
  {
   "cell_type": "code",
   "execution_count": 26,
   "metadata": {},
   "outputs": [],
   "source": [
    "# Load Spain polygon\n",
    "espPoly = pickle.load(open(\"espPoly.pkl\",'rb'))\n",
    "\n",
    "# Get next point from a lat,lng given the distance and angle (bearing)\n",
    "def getNextPoint(lat1, lon1, d, brng):\n",
    "    R = 6371\n",
    "    lat1 = math.radians(lat1) #Current lat point converted to radians\n",
    "    lon1 = math.radians(lon1) #Current long point converted to radians\n",
    "    lat2 = math.asin( math.sin(lat1)*math.cos(d/R) +\n",
    "        math.cos(lat1)*math.sin(d/R)*math.cos(brng))\n",
    "    lon2 = lon1 + math.atan2(math.sin(brng)*math.sin(d/R)*math.cos(lat1),\n",
    "                math.cos(d/R)-math.sin(lat1)*math.sin(lat2))\n",
    "    lat2 = math.degrees(lat2)\n",
    "    lon2 = math.degrees(lon2)\n",
    "    return (lat2,lon2)"
   ]
  },
  {
   "cell_type": "code",
   "execution_count": 28,
   "metadata": {},
   "outputs": [
    {
     "data": {
      "image/png": "[encoded data removed]",
      "text/plain": [
       "<Figure size 432x288 with 1 Axes>"
      ]
     },
     "metadata": {
      "needs_background": "light"
     },
     "output_type": "display_data"
    }
   ],
   "source": [
    "# Distance reference graph\n",
    "x,y = espPoly.exterior.xy\n",
    "plt.plot(x,y,color='black',linewidth=0.5)\n",
    "nextPt = getNextPoint(43,-4,200,1.57*2)\n",
    "plt.plot([-4,nextPt[1]],[43,nextPt[0]],'red',lw=4,label=\"200 km\")\n",
    "nextPt = getNextPoint(43,-3,400,1.57*2)\n",
    "plt.plot([-3,nextPt[1]],[43,nextPt[0]],'orange',lw=4,label=\"400 km\")\n",
    "nextPt = getNextPoint(43,-2,600,1.57*2)\n",
    "plt.plot([-2,nextPt[1]],[43,nextPt[0]],'blue',lw=4,label=\"600 km\")\n",
    "plt.legend(loc='lower right')\n",
    "plt.xlabel('Longitude')\n",
    "plt.ylabel('Latitude')\n",
    "plt.title('Distance Reference')\n",
    "plt.tight_layout()\n",
    "plt.savefig(\"distanceRef.png\",dpi=300)"
   ]
  },
  {
   "cell_type": "code",
   "execution_count": 5,
   "metadata": {},
   "outputs": [
    {
     "name": "stdout",
     "output_type": "stream",
     "text": [
      "Computing: [####################] 13099/13099\n",
      "\n"
     ]
    }
   ],
   "source": [
    "# Tiny Images (16x16)\n",
    "for i in progressbar(db.index,\"Computing: \",20):\n",
    "    fileName = db.file[i]\n",
    "    img = np.array(Image.open(\"data/raw/{}\".format(fileName)))\n",
    "    res = cv.resize(img, dsize=(16,16))\n",
    "    np.save(\"data/tinyImages/{}\".format(fileName[:-4]),res)"
   ]
  },
  {
   "cell_type": "code",
   "execution_count": 151,
   "metadata": {},
   "outputs": [
    {
     "name": "stdout",
     "output_type": "stream",
     "text": [
      "Computing: [####################] 13099/13099\n",
      "\n"
     ]
    }
   ],
   "source": [
    "# Color (CIELAB) Histograms\n",
    "for i in progressbar(db.index,\"Computing: \",20):\n",
    "    fileName = db.file[i]\n",
    "    lab = color.rgb2lab(Image.open(\"data/raw/{}\".format(fileName)))\n",
    "    chans = cv.split(lab)\n",
    "    \n",
    "    d = np.transpose(np.array((chans[0].flatten(),chans[1].flatten(),chans[2].flatten())))\n",
    "    h, edges = np.histogramdd(d,bins=(range(0,101,25),range(-100,101,14),range(-100,101,14)))\n",
    "\n",
    "    np.save(\"data/cielabHistograms/{}\".format(fileName[:-4]),h)"
   ]
  },
  {
   "cell_type": "code",
   "execution_count": 133,
   "metadata": {},
   "outputs": [
    {
     "name": "stdout",
     "output_type": "stream",
     "text": [
      "Computing: [####################] 13099/13099\n",
      "\n"
     ]
    }
   ],
   "source": [
    "# Line Features\n",
    "for i in progressbar(db.index,\"Computing: \",20):\n",
    "    fileName = db.file[i]\n",
    "    mat = scipy.io.loadmat(\"data/lineFeatures/{}.mat\".format(fileName[:-4]))\n",
    "    np.save(\"data/lineFeatures/{}\".format(fileName[:-4]),mat['data'])"
   ]
  },
  {
   "cell_type": "code",
   "execution_count": 17,
   "metadata": {},
   "outputs": [
    {
     "name": "stdout",
     "output_type": "stream",
     "text": [
      "Computing: [####################] 13099/13099\n",
      "\n"
     ]
    }
   ],
   "source": [
    "# Texton Histograms\n",
    "for i in progressbar(db.index,\"Computing: \",20):\n",
    "    fileName = db.file[i]\n",
    "    mat = scipy.io.loadmat(\"data/textonHistograms/{}.mat\".format(fileName[:-4]))\n",
    "    np.save(\"data/textonHistograms/{}\".format(fileName[:-4]),mat['hst'])"
   ]
  },
  {
   "cell_type": "code",
   "execution_count": 72,
   "metadata": {},
   "outputs": [
    {
     "name": "stdout",
     "output_type": "stream",
     "text": [
      "Computing: [####################] 13099/13099\n",
      "\n"
     ]
    }
   ],
   "source": [
    "# Tiny CIELAB Images (5x5)\n",
    "for i in progressbar(db.index,\"Computing: \",20):\n",
    "    fileName = db.file[i]\n",
    "    img = Image.open(\"data/raw/{}\".format(fileName))\n",
    "    labImg = color.rgb2lab(img)\n",
    "    res = cv.resize(labImg, dsize=(5,5))\n",
    "    np.save(\"data/tinyLabImages/{}\".format(fileName[:-4]),res)"
   ]
  },
  {
   "cell_type": "code",
   "execution_count": 7,
   "metadata": {},
   "outputs": [
    {
     "name": "stdout",
     "output_type": "stream",
     "text": [
      "Computing: [####################] 13099/13099\n",
      "\n"
     ]
    }
   ],
   "source": [
    "# Gist Descriptor\n",
    "for i in progressbar(db.index,\"Computing: \",20):\n",
    "    fileName = db.file[i]\n",
    "    mat = scipy.io.loadmat(\"data/gistDescriptors/{}.mat\".format(fileName))\n",
    "    np.save(\"data/gistDescriptors/{}\".format(fileName[:-4]),mat['data'])"
   ]
  },
  {
   "cell_type": "markdown",
   "metadata": {},
   "source": [
    "# Feature Analysis"
   ]
  },
  {
   "cell_type": "code",
   "execution_count": 12,
   "metadata": {},
   "outputs": [
    {
     "name": "stdout",
     "output_type": "stream",
     "text": [
      "Computing: [####################] 13099/13099\n",
      "\n"
     ]
    }
   ],
   "source": [
    "cielabHistograms = []\n",
    "gistDescriptors = []\n",
    "lineAngles = []\n",
    "lineLengths = []\n",
    "textonHistograms = []\n",
    "tinyImages = []\n",
    "tinyLabImages = []\n",
    "\n",
    "for i in progressbar(db.index,\"Computing: \",20):\n",
    "    fileName = db.file[i][:-4]\n",
    "    cielabHistograms.append(np.load(\"data/cielabHistograms/{}.npy\".format(fileName)))\n",
    "    gistDescriptors.append(np.load(\"data/gistDescriptors/{}.npy\".format(fileName)))\n",
    "\n",
    "    lineFeatures = np.load(\"data/lineFeatures/{}.npy\".format(fileName))\n",
    "    lineAngles.append(lineFeatures[0])\n",
    "    lineLengths.append(lineFeatures[1])\n",
    "\n",
    "    textonHistograms.append(np.load(\"data/textonHistograms/{}.npy\".format(fileName)))\n",
    "    tinyImages.append(np.load(\"data/tinyImages/{}.npy\".format(fileName)))\n",
    "    tinyLabImages.append(np.load(\"data/tinyLabImages/{}.npy\".format(fileName)))\n",
    "\n",
    "np.save('features/cielabHistograms.npy', cielabHistograms, allow_pickle=True)\n",
    "np.save('features/gistDescriptors.npy', gistDescriptors, allow_pickle=True)\n",
    "np.save('features/lineAngles.npy', lineAngles, allow_pickle=True)\n",
    "np.save('features/lineLengths.npy', lineLengths, allow_pickle=True)\n",
    "np.save('features/textonHistograms.npy', textonHistograms, allow_pickle=True)\n",
    "np.save('features/tinyImages.npy', tinyImages, allow_pickle=True)\n",
    "np.save('features/tinyLabImages.npy', tinyLabImages, allow_pickle=True)"
   ]
  },
  {
   "cell_type": "code",
   "execution_count": 3,
   "metadata": {},
   "outputs": [],
   "source": [
    "cielabHistograms = np.load('features/cielabHistograms.npy', allow_pickle=True)\n",
    "gistDescriptors = np.load('features/gistDescriptors.npy', allow_pickle=True)\n",
    "lineAngles = np.load('features/lineAngles.npy', allow_pickle=True)\n",
    "lineLengths = np.load('features/lineLengths.npy', allow_pickle=True)\n",
    "textonHistograms = np.load('features/textonHistograms.npy', allow_pickle=True)\n",
    "tinyImages = np.load('features/tinyImages.npy', allow_pickle=True)\n",
    "tinyLabImages = np.load('features/tinyLabImages.npy', allow_pickle=True)"
   ]
  },
  {
   "cell_type": "code",
   "execution_count": 4,
   "metadata": {},
   "outputs": [],
   "source": [
    "trainIdx = list(db.sample(frac=0.8, random_state=42).index.sort_values())\n",
    "testIdx = list(db[~db.index.isin(trainIdx)].index.sort_values())\n",
    "#db['group'] = np.where(db.index.isin(trainIdx),\"train\",\"test\")\n",
    "#db.to_csv(\"dict/overall.csv\",index=False,encoding=\"utf-8\")"
   ]
  },
  {
   "cell_type": "code",
   "execution_count": 20,
   "metadata": {},
   "outputs": [],
   "source": [
    "officialDb = db[db.official == 1].reset_index(drop=True)\n",
    "trainDb = db[db.group.isin([\"train\",\"validation\"])].reset_index(drop=True)"
   ]
  },
  {
   "cell_type": "code",
   "execution_count": 21,
   "metadata": {},
   "outputs": [],
   "source": [
    "cielabHistogramsTrain = [cielabHistograms[i] for i in trainIdx]\n",
    "gistDescriptorsTrain = [gistDescriptors[i] for i in trainIdx]\n",
    "lineAnglesTrain = [lineAngles[i] for i in trainIdx]\n",
    "lineLengthsTrain = [lineLengths[i] for i in trainIdx]\n",
    "textonHistogramsTrain = [textonHistograms[i] for i in trainIdx]\n",
    "tinyImagesTrain = [tinyImages[i] for i in trainIdx]\n",
    "tinyLabImagesTrain = [tinyLabImages[i] for i in trainIdx]\n",
    "\n",
    "cielabHistogramsTest = [cielabHistograms[i] for i in testIdx]\n",
    "gistDescriptorsTest = [gistDescriptors[i] for i in testIdx]\n",
    "lineAnglesTest = [lineAngles[i] for i in testIdx]\n",
    "lineLengthsTest = [lineLengths[i] for i in testIdx]\n",
    "textonHistogramsTest = [textonHistograms[i] for i in testIdx]\n",
    "tinyImagesTest = [tinyImages[i] for i in testIdx]\n",
    "tinyLabImagesTest = [tinyLabImages[i] for i in testIdx]"
   ]
  },
  {
   "cell_type": "code",
   "execution_count": 22,
   "metadata": {},
   "outputs": [],
   "source": [
    "# Distance formulas\n",
    "def euclideanDistance(a,b):\n",
    "    return np.linalg.norm(a-b)\n",
    "def manhattanDistance(a,b):\n",
    "    return sum(abs(int(x)-int(y)) for x,y in zip(a,b))\n",
    "def chiSquaredDistance(a,b,eps=1e-10):\n",
    "    a,b = np.array(a),np.array(b)\n",
    "    return 0.5 * np.sum((a-b)**2 / (a+b+eps))"
   ]
  },
  {
   "cell_type": "code",
   "execution_count": 23,
   "metadata": {},
   "outputs": [
    {
     "name": "stdout",
     "output_type": "stream",
     "text": [
      "Computing: [###############.....] 1967/2620\r"
     ]
    },
    {
     "ename": "KeyboardInterrupt",
     "evalue": "",
     "output_type": "error",
     "traceback": [
      "\u001b[0;31m---------------------------------------------------------------------------\u001b[0m",
      "\u001b[0;31mKeyboardInterrupt\u001b[0m                         Traceback (most recent call last)",
      "\u001b[0;32m<ipython-input-23-7dabbabd16a8>\u001b[0m in \u001b[0;36m<module>\u001b[0;34m\u001b[0m\n\u001b[1;32m     21\u001b[0m         \u001b[0mtHDiff\u001b[0m\u001b[0;34m.\u001b[0m\u001b[0mappend\u001b[0m\u001b[0;34m(\u001b[0m\u001b[0mchiSquaredDistance\u001b[0m\u001b[0;34m(\u001b[0m\u001b[0mtH\u001b[0m\u001b[0;34m,\u001b[0m\u001b[0mtextonHistogramsTrain\u001b[0m\u001b[0;34m[\u001b[0m\u001b[0mk\u001b[0m\u001b[0;34m]\u001b[0m\u001b[0;34m)\u001b[0m\u001b[0;34m)\u001b[0m\u001b[0;34m\u001b[0m\u001b[0;34m\u001b[0m\u001b[0m\n\u001b[1;32m     22\u001b[0m         \u001b[0mtIDiff\u001b[0m\u001b[0;34m.\u001b[0m\u001b[0mappend\u001b[0m\u001b[0;34m(\u001b[0m\u001b[0meuclideanDistance\u001b[0m\u001b[0;34m(\u001b[0m\u001b[0mtI\u001b[0m\u001b[0;34m,\u001b[0m\u001b[0mtinyImagesTrain\u001b[0m\u001b[0;34m[\u001b[0m\u001b[0mk\u001b[0m\u001b[0;34m]\u001b[0m\u001b[0;34m)\u001b[0m\u001b[0;34m)\u001b[0m\u001b[0;34m\u001b[0m\u001b[0;34m\u001b[0m\u001b[0m\n\u001b[0;32m---> 23\u001b[0;31m         \u001b[0mtLIDiff\u001b[0m\u001b[0;34m.\u001b[0m\u001b[0mappend\u001b[0m\u001b[0;34m(\u001b[0m\u001b[0meuclideanDistance\u001b[0m\u001b[0;34m(\u001b[0m\u001b[0mtLI\u001b[0m\u001b[0;34m,\u001b[0m\u001b[0mtinyLabImagesTrain\u001b[0m\u001b[0;34m[\u001b[0m\u001b[0mk\u001b[0m\u001b[0;34m]\u001b[0m\u001b[0;34m)\u001b[0m\u001b[0;34m)\u001b[0m\u001b[0;34m\u001b[0m\u001b[0;34m\u001b[0m\u001b[0m\n\u001b[0m\u001b[1;32m     24\u001b[0m \u001b[0;34m\u001b[0m\u001b[0m\n\u001b[1;32m     25\u001b[0m     \u001b[0;31m# Standardize mean of 0, standard deviation of 1\u001b[0m\u001b[0;34m\u001b[0m\u001b[0;34m\u001b[0m\u001b[0;34m\u001b[0m\u001b[0m\n",
      "\u001b[0;32m<ipython-input-22-cce13218c125>\u001b[0m in \u001b[0;36meuclideanDistance\u001b[0;34m(a, b)\u001b[0m\n\u001b[1;32m      1\u001b[0m \u001b[0;31m# Distance formulas\u001b[0m\u001b[0;34m\u001b[0m\u001b[0;34m\u001b[0m\u001b[0;34m\u001b[0m\u001b[0m\n\u001b[1;32m      2\u001b[0m \u001b[0;32mdef\u001b[0m \u001b[0meuclideanDistance\u001b[0m\u001b[0;34m(\u001b[0m\u001b[0ma\u001b[0m\u001b[0;34m,\u001b[0m\u001b[0mb\u001b[0m\u001b[0;34m)\u001b[0m\u001b[0;34m:\u001b[0m\u001b[0;34m\u001b[0m\u001b[0;34m\u001b[0m\u001b[0m\n\u001b[0;32m----> 3\u001b[0;31m     \u001b[0;32mreturn\u001b[0m \u001b[0mnp\u001b[0m\u001b[0;34m.\u001b[0m\u001b[0mlinalg\u001b[0m\u001b[0;34m.\u001b[0m\u001b[0mnorm\u001b[0m\u001b[0;34m(\u001b[0m\u001b[0ma\u001b[0m\u001b[0;34m-\u001b[0m\u001b[0mb\u001b[0m\u001b[0;34m)\u001b[0m\u001b[0;34m\u001b[0m\u001b[0;34m\u001b[0m\u001b[0m\n\u001b[0m\u001b[1;32m      4\u001b[0m \u001b[0;32mdef\u001b[0m \u001b[0mmanhattanDistance\u001b[0m\u001b[0;34m(\u001b[0m\u001b[0ma\u001b[0m\u001b[0;34m,\u001b[0m\u001b[0mb\u001b[0m\u001b[0;34m)\u001b[0m\u001b[0;34m:\u001b[0m\u001b[0;34m\u001b[0m\u001b[0;34m\u001b[0m\u001b[0m\n\u001b[1;32m      5\u001b[0m     \u001b[0;32mreturn\u001b[0m \u001b[0msum\u001b[0m\u001b[0;34m(\u001b[0m\u001b[0mabs\u001b[0m\u001b[0;34m(\u001b[0m\u001b[0mint\u001b[0m\u001b[0;34m(\u001b[0m\u001b[0mx\u001b[0m\u001b[0;34m)\u001b[0m\u001b[0;34m-\u001b[0m\u001b[0mint\u001b[0m\u001b[0;34m(\u001b[0m\u001b[0my\u001b[0m\u001b[0;34m)\u001b[0m\u001b[0;34m)\u001b[0m \u001b[0;32mfor\u001b[0m \u001b[0mx\u001b[0m\u001b[0;34m,\u001b[0m\u001b[0my\u001b[0m \u001b[0;32min\u001b[0m \u001b[0mzip\u001b[0m\u001b[0;34m(\u001b[0m\u001b[0ma\u001b[0m\u001b[0;34m,\u001b[0m\u001b[0mb\u001b[0m\u001b[0;34m)\u001b[0m\u001b[0;34m)\u001b[0m\u001b[0;34m\u001b[0m\u001b[0;34m\u001b[0m\u001b[0m\n",
      "\u001b[0;32m~/.local/lib/python3.9/site-packages/numpy/core/overrides.py\u001b[0m in \u001b[0;36mnorm\u001b[0;34m(*args, **kwargs)\u001b[0m\n",
      "\u001b[0;32m~/.local/lib/python3.9/site-packages/numpy/linalg/linalg.py\u001b[0m in \u001b[0;36mnorm\u001b[0;34m(x, ord, axis, keepdims)\u001b[0m\n\u001b[1;32m   2525\u001b[0m             \u001b[0;32melse\u001b[0m\u001b[0;34m:\u001b[0m\u001b[0;34m\u001b[0m\u001b[0;34m\u001b[0m\u001b[0m\n\u001b[1;32m   2526\u001b[0m                 \u001b[0msqnorm\u001b[0m \u001b[0;34m=\u001b[0m \u001b[0mx\u001b[0m\u001b[0;34m.\u001b[0m\u001b[0mdot\u001b[0m\u001b[0;34m(\u001b[0m\u001b[0mx\u001b[0m\u001b[0;34m)\u001b[0m\u001b[0;34m\u001b[0m\u001b[0;34m\u001b[0m\u001b[0m\n\u001b[0;32m-> 2527\u001b[0;31m             \u001b[0mret\u001b[0m \u001b[0;34m=\u001b[0m \u001b[0msqrt\u001b[0m\u001b[0;34m(\u001b[0m\u001b[0msqnorm\u001b[0m\u001b[0;34m)\u001b[0m\u001b[0;34m\u001b[0m\u001b[0;34m\u001b[0m\u001b[0m\n\u001b[0m\u001b[1;32m   2528\u001b[0m             \u001b[0;32mif\u001b[0m \u001b[0mkeepdims\u001b[0m\u001b[0;34m:\u001b[0m\u001b[0;34m\u001b[0m\u001b[0;34m\u001b[0m\u001b[0m\n\u001b[1;32m   2529\u001b[0m                 \u001b[0mret\u001b[0m \u001b[0;34m=\u001b[0m \u001b[0mret\u001b[0m\u001b[0;34m.\u001b[0m\u001b[0mreshape\u001b[0m\u001b[0;34m(\u001b[0m\u001b[0mndim\u001b[0m\u001b[0;34m*\u001b[0m\u001b[0;34m[\u001b[0m\u001b[0;36m1\u001b[0m\u001b[0;34m]\u001b[0m\u001b[0;34m)\u001b[0m\u001b[0;34m\u001b[0m\u001b[0;34m\u001b[0m\u001b[0m\n",
      "\u001b[0;31mKeyboardInterrupt\u001b[0m: "
     ]
    }
   ],
   "source": [
    "### 1-NN MODEL ###\n",
    "\n",
    "savedDifferences = []\n",
    "\n",
    "results = []\n",
    "for i in progressbar(range(len(testIdx)),\"Computing: \",20):\n",
    "    # Get feature values for each iteration\n",
    "    cH = cielabHistogramsTest[i]\n",
    "    gD = gistDescriptorsTest[i]\n",
    "    lA = lineAnglesTest[i]\n",
    "    lL = lineLengthsTest[i]\n",
    "    tH = textonHistogramsTest[i]\n",
    "    tI = tinyImagesTest[i]\n",
    "    tLI = tinyLabImagesTest[i]\n",
    "\n",
    "    # Compute distances\n",
    "    cHDiff,gDDiff,gD2Diff,lADiff,lLDiff,tHDiff,tIDiff,tLIDiff = [],[],[],[],[],[],[],[]\n",
    "    for k in range(len(trainIdx)):\n",
    "        cHDiff.append(chiSquaredDistance(cH,cielabHistogramsTrain[k]))\n",
    "        gDDiff.append(euclideanDistance(gD,gistDescriptorsTrain[k]))\n",
    "        lADiff.append(manhattanDistance(lA,lineAnglesTrain[k]))\n",
    "        lLDiff.append(manhattanDistance(lL,lineLengthsTrain[k]))\n",
    "        tHDiff.append(chiSquaredDistance(tH,textonHistogramsTrain[k]))\n",
    "        tIDiff.append(euclideanDistance(tI,tinyImagesTrain[k]))\n",
    "        tLIDiff.append(euclideanDistance(tLI,tinyLabImagesTrain[k]))\n",
    "\n",
    "    # Standardize mean of 0, standard deviation of 1\n",
    "    cHDiff = preprocessing.scale(cHDiff)\n",
    "    gDDiff = preprocessing.scale(gDDiff)\n",
    "    lADiff = preprocessing.scale(lADiff)\n",
    "    lLDiff = preprocessing.scale(lLDiff)\n",
    "    tHDiff = preprocessing.scale(tHDiff)\n",
    "    tIDiff = preprocessing.scale(tIDiff)\n",
    "    tLIDiff = preprocessing.scale(tLIDiff)\n",
    "\n",
    "    # Save difference values\n",
    "    savedDifferences.append(np.array((cHDiff,gDDiff,lADiff,lLDiff,tHDiff,tIDiff,tLIDiff)))\n",
    "\n",
    "    # Calculate average of feature distances and assign to DataFrame\n",
    "    finalMetric = [np.mean(np.array((a,b,c,d,e,f,g))) for a,b,c,d,e,f,g in zip(cHDiff,gDDiff,lADiff,lLDiff,tHDiff,tIDiff,tLIDiff)]\n",
    "    \n",
    "    # Get idx of minimum value\n",
    "    closestMatch = np.argmin(finalMetric)\n",
    "\n",
    "    # Get the point of interest & the predicted point (KNN=1)\n",
    "    point = [math.radians(x) for x in (db.lat[testIdx[i]],db.lng[testIdx[i]])]\n",
    "    pred = [math.radians(x) for x in (trainDb.lat[closestMatch],trainDb.lng[closestMatch])]\n",
    "\n",
    "    # Calculate error and save\n",
    "    results.append({\"idx\":testIdx[i],\n",
    "                    \"error\":np.max(haversine_distances([point,pred])*6378),\n",
    "                    \"predLat\":pred[0],\n",
    "                    \"predLng\":pred[1]})\n",
    "\n",
    "result_df = pd.DataFrame(results)\n",
    "result_df = pd.merge(result_df,db[['lat','lng','file']].reset_index(),left_on='idx',right_on='index')\n",
    "result_df = result_df[['idx','file','lat','lng','predLat','predLng','error']]"
   ]
  }
 ],
 "metadata": {
  "kernelspec": {
   "display_name": "Python 3.9.2 64-bit",
   "language": "python",
   "name": "python3"
  },
  "language_info": {
   "codemirror_mode": {
    "name": "ipython",
    "version": 3
   },
   "file_extension": ".py",
   "mimetype": "text/x-python",
   "name": "python",
   "nbconvert_exporter": "python",
   "pygments_lexer": "ipython3",
   "version": "3.9.2"
  },
  "orig_nbformat": 4,
  "vscode": {
   "interpreter": {
    "hash": "e7370f93d1d0cde622a1f8e1c04877d8463912d04d973331ad4851f04de6915a"
   }
  }
 },
 "nbformat": 4,
 "nbformat_minor": 2
}
