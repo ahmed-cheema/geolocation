{
 "cells": [
  {
   "cell_type": "code",
   "execution_count": 1,
   "metadata": {},
   "outputs": [],
   "source": [
    "import matplotlib.pyplot as plt\n",
    "import pandas as pd\n",
    "import numpy as np\n",
    "import cv2 as cv\n",
    "import sys\n",
    "\n",
    "def progressbar(it, prefix=\"\", size=60, out=sys.stdout): # Python3.3+\n",
    "    count = len(it)\n",
    "    def show(j):\n",
    "        x = int(size*j/count)\n",
    "        print(\"{}[{}{}] {}/{}\".format(prefix, \"#\"*x, \".\"*(size-x), j, count), \n",
    "                end='\\r', file=out, flush=True)\n",
    "    show(0)\n",
    "    for i, item in enumerate(it):\n",
    "        yield item\n",
    "        show(i+1)\n",
    "    print(\"\\n\", flush=True, file=out)"
   ]
  },
  {
   "cell_type": "markdown",
   "metadata": {},
   "source": [
    "### Data Loading"
   ]
  },
  {
   "cell_type": "code",
   "execution_count": 6,
   "metadata": {},
   "outputs": [],
   "source": [
    "db = pd.read_csv(\"dict/overall.csv\")\n",
    "\n",
    "trainDb = db[db.group == \"train\"].reset_index(drop=True)\n",
    "testDb = db[db.group == \"test\"].reset_index(drop=True)"
   ]
  },
  {
   "cell_type": "code",
   "execution_count": 7,
   "metadata": {},
   "outputs": [],
   "source": [
    "# Get Validation Set Indices\n",
    "\n",
    "nTrain = trainDb.shape[0]\n",
    "nTest = testDb.shape[0]\n",
    "\n",
    "np.random.seed(42)\n",
    "\n",
    "msk = np.zeros(nTrain, dtype=int)\n",
    "msk[:nTest] = 1\n",
    "np.random.shuffle(msk)\n",
    "msk = msk.astype(bool)"
   ]
  },
  {
   "cell_type": "code",
   "execution_count": 9,
   "metadata": {},
   "outputs": [],
   "source": [
    "trainImages = np.zeros((trainDb.shape[0],300,300,3),dtype='uint8')\n",
    "testImages = np.zeros((testDb.shape[0],300,300,3),dtype='uint8')"
   ]
  },
  {
   "cell_type": "code",
   "execution_count": 7,
   "metadata": {},
   "outputs": [
    {
     "name": "stdout",
     "output_type": "stream",
     "text": [
      "Computing: [####################] 10479/10479\n",
      "\n"
     ]
    }
   ],
   "source": [
    "for i in progressbar(trainDb.index,'Computing: ',20):\n",
    "    img = plt.imread(\"data/raw/{}\".format(trainDb.file[i]))\n",
    "    img = cv.resize(img, dsize=(300,300))\n",
    "    trainImages[i] = img\n",
    "\n",
    "for i in progressbar(testDb.index,'Computing: ',20):\n",
    "    img = plt.imread(\"data/raw/{}\".format(testDb.file[i]))\n",
    "    img = cv.resize(img, dsize=(300,300))\n",
    "    testImages[i] = img"
   ]
  },
  {
   "cell_type": "code",
   "execution_count": 8,
   "metadata": {},
   "outputs": [],
   "source": [
    "np.save(\"data/trainImages\",trainImages)\n",
    "np.save(\"data/testImages\",testImages)"
   ]
  },
  {
   "cell_type": "code",
   "execution_count": 30,
   "metadata": {},
   "outputs": [],
   "source": [
    "trainLabels = np.array([np.array((x,y)) for x,y in zip(trainDb.lat,trainDb.lng)])\n",
    "testLabels = np.array([np.array((x,y)) for x,y in zip(testDb.lat,testDb.lng)])"
   ]
  },
  {
   "cell_type": "code",
   "execution_count": 31,
   "metadata": {},
   "outputs": [],
   "source": [
    "np.save(\"data/trainLabels\",trainLabels)\n",
    "np.save(\"data/testLabels\",testLabels)"
   ]
  },
  {
   "cell_type": "code",
   "execution_count": 3,
   "metadata": {},
   "outputs": [],
   "source": [
    "trainImages = np.load(\"data/trainImages.npy\")\n",
    "testImages = np.load(\"data/testImages.npy\")\n",
    "\n",
    "trainLabels = np.load(\"data/trainLabels.npy\")\n",
    "testLabels = np.load(\"data/testLabels.npy\")"
   ]
  },
  {
   "cell_type": "code",
   "execution_count": 8,
   "metadata": {},
   "outputs": [],
   "source": [
    "valImages = trainImages[msk]\n",
    "valLabels = trainLabels[msk]\n",
    "\n",
    "trainImages = trainImages[~msk]\n",
    "trainLabels = trainLabels[~msk]"
   ]
  },
  {
   "cell_type": "code",
   "execution_count": 9,
   "metadata": {},
   "outputs": [
    {
     "name": "stdout",
     "output_type": "stream",
     "text": [
      "[38.2720508 -1.199847 ]\n",
      "[38.42535736 -5.15649189]\n"
     ]
    }
   ],
   "source": [
    "print(trainLabels[1170])\n",
    "print(valLabels[1170])"
   ]
  },
  {
   "cell_type": "code",
   "execution_count": 11,
   "metadata": {},
   "outputs": [],
   "source": [
    "np.save(\"data/trainImages\",trainImages)\n",
    "np.save(\"data/trainLabels\",trainLabels)\n",
    "\n",
    "np.save(\"data/valImages\",valImages)\n",
    "np.save(\"data/valLabels\",valLabels)"
   ]
  },
  {
   "cell_type": "code",
   "execution_count": 24,
   "metadata": {},
   "outputs": [
    {
     "name": "stderr",
     "output_type": "stream",
     "text": [
      "<ipython-input-24-7897cd67fd8f>:1: SettingWithCopyWarning: \n",
      "A value is trying to be set on a copy of a slice from a DataFrame\n",
      "\n",
      "See the caveats in the documentation: https://pandas.pydata.org/pandas-docs/stable/user_guide/indexing.html#returning-a-view-versus-a-copy\n",
      "  db.group[db[db.group == \"train\"].index[msk]] = \"validation\"\n"
     ]
    }
   ],
   "source": [
    "db.group[db[db.group == \"train\"].index[msk]] = \"validation\""
   ]
  },
  {
   "cell_type": "code",
   "execution_count": 25,
   "metadata": {},
   "outputs": [
    {
     "data": {
      "text/plain": [
       "train         7859\n",
       "validation    2620\n",
       "test          2620\n",
       "Name: group, dtype: int64"
      ]
     },
     "execution_count": 25,
     "metadata": {},
     "output_type": "execute_result"
    }
   ],
   "source": [
    "db.group.value_counts()"
   ]
  },
  {
   "cell_type": "code",
   "execution_count": 26,
   "metadata": {},
   "outputs": [],
   "source": [
    "db.to_csv(\"dict/overall.csv\",index=False,encoding=\"utf-8\")"
   ]
  }
 ],
 "metadata": {
  "kernelspec": {
   "display_name": "Python 3.9.2 64-bit",
   "language": "python",
   "name": "python3"
  },
  "language_info": {
   "codemirror_mode": {
    "name": "ipython",
    "version": 3
   },
   "file_extension": ".py",
   "mimetype": "text/x-python",
   "name": "python",
   "nbconvert_exporter": "python",
   "pygments_lexer": "ipython3",
   "version": "3.9.2"
  },
  "orig_nbformat": 4,
  "vscode": {
   "interpreter": {
    "hash": "e7370f93d1d0cde622a1f8e1c04877d8463912d04d973331ad4851f04de6915a"
   }
  }
 },
 "nbformat": 4,
 "nbformat_minor": 2
}
